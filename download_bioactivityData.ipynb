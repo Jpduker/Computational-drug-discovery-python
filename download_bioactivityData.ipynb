{
 "cells": [
  {
   "cell_type": "code",
   "execution_count": 1,
   "metadata": {},
   "outputs": [
    {
     "name": "stdout",
     "output_type": "stream",
     "text": [
      "Collecting chembl_webresource_client\n",
      "  Downloading chembl_webresource_client-0.10.7-py3-none-any.whl (55 kB)\n",
      "Requirement already satisfied: urllib3 in c:\\users\\jayaprakash\\anaconda3\\lib\\site-packages (from chembl_webresource_client) (1.26.4)\n",
      "Collecting requests-cache~=0.7.0\n",
      "  Downloading requests_cache-0.7.5-py3-none-any.whl (39 kB)\n",
      "Requirement already satisfied: requests>=2.18.4 in c:\\users\\jayaprakash\\anaconda3\\lib\\site-packages (from chembl_webresource_client) (2.25.1)\n",
      "Collecting easydict\n",
      "  Downloading easydict-1.9.tar.gz (6.4 kB)\n",
      "Requirement already satisfied: idna<3,>=2.5 in c:\\users\\jayaprakash\\anaconda3\\lib\\site-packages (from requests>=2.18.4->chembl_webresource_client) (2.10)\n",
      "Requirement already satisfied: certifi>=2017.4.17 in c:\\users\\jayaprakash\\anaconda3\\lib\\site-packages (from requests>=2.18.4->chembl_webresource_client) (2020.12.5)\n",
      "Requirement already satisfied: chardet<5,>=3.0.2 in c:\\users\\jayaprakash\\anaconda3\\lib\\site-packages (from requests>=2.18.4->chembl_webresource_client) (4.0.0)\n",
      "Collecting itsdangerous>=2.0.1\n",
      "  Using cached itsdangerous-2.0.1-py3-none-any.whl (18 kB)\n",
      "Collecting attrs<22.0,>=21.2\n",
      "  Using cached attrs-21.2.0-py2.py3-none-any.whl (53 kB)\n",
      "Requirement already satisfied: pyyaml>=5.4 in c:\\users\\jayaprakash\\anaconda3\\lib\\site-packages (from requests-cache~=0.7.0->chembl_webresource_client) (5.4.1)\n",
      "Collecting url-normalize<2.0,>=1.4\n",
      "  Downloading url_normalize-1.4.3-py2.py3-none-any.whl (6.8 kB)\n",
      "Requirement already satisfied: six in c:\\users\\jayaprakash\\anaconda3\\lib\\site-packages (from url-normalize<2.0,>=1.4->requests-cache~=0.7.0->chembl_webresource_client) (1.15.0)\n",
      "Building wheels for collected packages: easydict\n",
      "  Building wheel for easydict (setup.py): started\n",
      "  Building wheel for easydict (setup.py): finished with status 'done'\n",
      "  Created wheel for easydict: filename=easydict-1.9-py3-none-any.whl size=6350 sha256=0e39bfee280af2aee37681bebad0ecb6ce182664b455d0639c2df9bdab8026ad\n",
      "  Stored in directory: c:\\users\\jayaprakash\\appdata\\local\\pip\\cache\\wheels\\d3\\e0\\e9\\305e348717e399665119bd012510d51ff4f22d709ff60c3096\n",
      "Successfully built easydict\n",
      "Installing collected packages: url-normalize, itsdangerous, attrs, requests-cache, easydict, chembl-webresource-client\n",
      "  Attempting uninstall: itsdangerous\n",
      "    Found existing installation: itsdangerous 1.1.0\n",
      "    Uninstalling itsdangerous-1.1.0:\n",
      "      Successfully uninstalled itsdangerous-1.1.0\n",
      "  Attempting uninstall: attrs\n",
      "    Found existing installation: attrs 20.3.0\n",
      "    Uninstalling attrs-20.3.0:\n",
      "      Successfully uninstalled attrs-20.3.0\n",
      "Successfully installed attrs-21.2.0 chembl-webresource-client-0.10.7 easydict-1.9 itsdangerous-2.0.1 requests-cache-0.7.5 url-normalize-1.4.3\n"
     ]
    }
   ],
   "source": [
    "! pip install chembl_webresource_client"
   ]
  },
  {
   "cell_type": "markdown",
   "metadata": {},
   "source": [
    "## Importing Required libraries"
   ]
  },
  {
   "cell_type": "code",
   "execution_count": 2,
   "metadata": {},
   "outputs": [],
   "source": [
    "import pandas as pd\n",
    "from chembl_webresource_client.new_client import new_client "
   ]
  },
  {
   "cell_type": "markdown",
   "metadata": {},
   "source": [
    "### Searching for Target protein"
   ]
  },
  {
   "cell_type": "markdown",
   "metadata": {},
   "source": [
    "#### Target search for Malaria"
   ]
  },
  {
   "cell_type": "code",
   "execution_count": 11,
   "metadata": {},
   "outputs": [
    {
     "data": {
      "text/html": [
       "<div>\n",
       "<style scoped>\n",
       "    .dataframe tbody tr th:only-of-type {\n",
       "        vertical-align: middle;\n",
       "    }\n",
       "\n",
       "    .dataframe tbody tr th {\n",
       "        vertical-align: top;\n",
       "    }\n",
       "\n",
       "    .dataframe thead th {\n",
       "        text-align: right;\n",
       "    }\n",
       "</style>\n",
       "<table border=\"1\" class=\"dataframe\">\n",
       "  <thead>\n",
       "    <tr style=\"text-align: right;\">\n",
       "      <th></th>\n",
       "      <th>cross_references</th>\n",
       "      <th>organism</th>\n",
       "      <th>pref_name</th>\n",
       "      <th>score</th>\n",
       "      <th>species_group_flag</th>\n",
       "      <th>target_chembl_id</th>\n",
       "      <th>target_components</th>\n",
       "      <th>target_type</th>\n",
       "      <th>tax_id</th>\n",
       "    </tr>\n",
       "  </thead>\n",
       "  <tbody>\n",
       "    <tr>\n",
       "      <th>0</th>\n",
       "      <td>[]</td>\n",
       "      <td>Dengue virus</td>\n",
       "      <td>Dengue virus</td>\n",
       "      <td>15.0</td>\n",
       "      <td>False</td>\n",
       "      <td>CHEMBL613757</td>\n",
       "      <td>[]</td>\n",
       "      <td>ORGANISM</td>\n",
       "      <td>12637</td>\n",
       "    </tr>\n",
       "    <tr>\n",
       "      <th>1</th>\n",
       "      <td>[]</td>\n",
       "      <td>Dengue virus 1</td>\n",
       "      <td>Dengue virus 1</td>\n",
       "      <td>13.0</td>\n",
       "      <td>False</td>\n",
       "      <td>CHEMBL613360</td>\n",
       "      <td>[]</td>\n",
       "      <td>ORGANISM</td>\n",
       "      <td>11053</td>\n",
       "    </tr>\n",
       "    <tr>\n",
       "      <th>2</th>\n",
       "      <td>[]</td>\n",
       "      <td>Dengue virus 2</td>\n",
       "      <td>Dengue virus 2</td>\n",
       "      <td>13.0</td>\n",
       "      <td>False</td>\n",
       "      <td>CHEMBL613966</td>\n",
       "      <td>[]</td>\n",
       "      <td>ORGANISM</td>\n",
       "      <td>11060</td>\n",
       "    </tr>\n",
       "    <tr>\n",
       "      <th>3</th>\n",
       "      <td>[]</td>\n",
       "      <td>Dengue virus 3</td>\n",
       "      <td>Dengue virus 3</td>\n",
       "      <td>13.0</td>\n",
       "      <td>False</td>\n",
       "      <td>CHEMBL612717</td>\n",
       "      <td>[]</td>\n",
       "      <td>ORGANISM</td>\n",
       "      <td>11069</td>\n",
       "    </tr>\n",
       "    <tr>\n",
       "      <th>4</th>\n",
       "      <td>[]</td>\n",
       "      <td>Dengue virus 4</td>\n",
       "      <td>Dengue virus type 4</td>\n",
       "      <td>11.0</td>\n",
       "      <td>False</td>\n",
       "      <td>CHEMBL613728</td>\n",
       "      <td>[]</td>\n",
       "      <td>ORGANISM</td>\n",
       "      <td>11070</td>\n",
       "    </tr>\n",
       "    <tr>\n",
       "      <th>5</th>\n",
       "      <td>[{'xref_id': 'P29990', 'xref_name': None, 'xre...</td>\n",
       "      <td>Dengue virus type 2 (strain Thailand/16681/198...</td>\n",
       "      <td>Dengue virus type 2 NS3 protein</td>\n",
       "      <td>9.0</td>\n",
       "      <td>False</td>\n",
       "      <td>CHEMBL5980</td>\n",
       "      <td>[{'accession': 'P29990', 'component_descriptio...</td>\n",
       "      <td>SINGLE PROTEIN</td>\n",
       "      <td>31634</td>\n",
       "    </tr>\n",
       "  </tbody>\n",
       "</table>\n",
       "</div>"
      ],
      "text/plain": [
       "                                    cross_references  \\\n",
       "0                                                 []   \n",
       "1                                                 []   \n",
       "2                                                 []   \n",
       "3                                                 []   \n",
       "4                                                 []   \n",
       "5  [{'xref_id': 'P29990', 'xref_name': None, 'xre...   \n",
       "\n",
       "                                            organism  \\\n",
       "0                                       Dengue virus   \n",
       "1                                     Dengue virus 1   \n",
       "2                                     Dengue virus 2   \n",
       "3                                     Dengue virus 3   \n",
       "4                                     Dengue virus 4   \n",
       "5  Dengue virus type 2 (strain Thailand/16681/198...   \n",
       "\n",
       "                         pref_name  score  species_group_flag  \\\n",
       "0                     Dengue virus   15.0               False   \n",
       "1                   Dengue virus 1   13.0               False   \n",
       "2                   Dengue virus 2   13.0               False   \n",
       "3                   Dengue virus 3   13.0               False   \n",
       "4              Dengue virus type 4   11.0               False   \n",
       "5  Dengue virus type 2 NS3 protein    9.0               False   \n",
       "\n",
       "  target_chembl_id                                  target_components  \\\n",
       "0     CHEMBL613757                                                 []   \n",
       "1     CHEMBL613360                                                 []   \n",
       "2     CHEMBL613966                                                 []   \n",
       "3     CHEMBL612717                                                 []   \n",
       "4     CHEMBL613728                                                 []   \n",
       "5       CHEMBL5980  [{'accession': 'P29990', 'component_descriptio...   \n",
       "\n",
       "      target_type  tax_id  \n",
       "0        ORGANISM   12637  \n",
       "1        ORGANISM   11053  \n",
       "2        ORGANISM   11060  \n",
       "3        ORGANISM   11069  \n",
       "4        ORGANISM   11070  \n",
       "5  SINGLE PROTEIN   31634  "
      ]
     },
     "execution_count": 11,
     "metadata": {},
     "output_type": "execute_result"
    }
   ],
   "source": [
    "#Target search for malaria\n",
    "target =new_client.target\n",
    "target_query=target.search('Dengue')\n",
    "targets=pd.DataFrame.from_dict(target_query)\n",
    "targets.head(6)"
   ]
  },
  {
   "cell_type": "markdown",
   "metadata": {},
   "source": [
    "### Select and retrive bioactivity data for dengue virus type-2(6th entry)"
   ]
  },
  {
   "cell_type": "code",
   "execution_count": 13,
   "metadata": {},
   "outputs": [
    {
     "data": {
      "text/plain": [
       "'CHEMBL5980'"
      ]
     },
     "execution_count": 13,
     "metadata": {},
     "output_type": "execute_result"
    }
   ],
   "source": [
    "selected_target=targets.target_chembl_id[5]\n",
    "selected_target"
   ]
  },
  {
   "cell_type": "markdown",
   "metadata": {},
   "source": [
    "#### Retriving the bioactivity data for dengue virus type 2 (CHEMBL5980)"
   ]
  },
  {
   "cell_type": "code",
   "execution_count": 16,
   "metadata": {},
   "outputs": [],
   "source": [
    "activity=new_client.activity\n",
    "res=activity.get(target_chembl_id=selected_target).get(standard_type=\"IC50\")"
   ]
  },
  {
   "cell_type": "code",
   "execution_count": 17,
   "metadata": {},
   "outputs": [],
   "source": [
    "df=pd.DataFrame.from_dict(res)"
   ]
  },
  {
   "cell_type": "code",
   "execution_count": 19,
   "metadata": {},
   "outputs": [
    {
     "data": {
      "text/html": [
       "<div>\n",
       "<style scoped>\n",
       "    .dataframe tbody tr th:only-of-type {\n",
       "        vertical-align: middle;\n",
       "    }\n",
       "\n",
       "    .dataframe tbody tr th {\n",
       "        vertical-align: top;\n",
       "    }\n",
       "\n",
       "    .dataframe thead th {\n",
       "        text-align: right;\n",
       "    }\n",
       "</style>\n",
       "<table border=\"1\" class=\"dataframe\">\n",
       "  <thead>\n",
       "    <tr style=\"text-align: right;\">\n",
       "      <th></th>\n",
       "      <th>activity_comment</th>\n",
       "      <th>activity_id</th>\n",
       "      <th>activity_properties</th>\n",
       "      <th>assay_chembl_id</th>\n",
       "      <th>assay_description</th>\n",
       "      <th>assay_type</th>\n",
       "      <th>assay_variant_accession</th>\n",
       "      <th>assay_variant_mutation</th>\n",
       "      <th>bao_endpoint</th>\n",
       "      <th>bao_format</th>\n",
       "      <th>...</th>\n",
       "      <th>target_organism</th>\n",
       "      <th>target_pref_name</th>\n",
       "      <th>target_tax_id</th>\n",
       "      <th>text_value</th>\n",
       "      <th>toid</th>\n",
       "      <th>type</th>\n",
       "      <th>units</th>\n",
       "      <th>uo_units</th>\n",
       "      <th>upper_value</th>\n",
       "      <th>value</th>\n",
       "    </tr>\n",
       "  </thead>\n",
       "  <tbody>\n",
       "    <tr>\n",
       "      <th>0</th>\n",
       "      <td>active</td>\n",
       "      <td>7018430</td>\n",
       "      <td>[]</td>\n",
       "      <td>CHEMBL1794550</td>\n",
       "      <td>PUBCHEM_BIOASSAY: Primary and Confirmatory Scr...</td>\n",
       "      <td>F</td>\n",
       "      <td>None</td>\n",
       "      <td>None</td>\n",
       "      <td>BAO_0000190</td>\n",
       "      <td>BAO_0000019</td>\n",
       "      <td>...</td>\n",
       "      <td>Dengue virus type 2 (strain Thailand/16681/198...</td>\n",
       "      <td>Dengue virus type 2 NS3 protein</td>\n",
       "      <td>31634</td>\n",
       "      <td>None</td>\n",
       "      <td>None</td>\n",
       "      <td>IC50</td>\n",
       "      <td>uM</td>\n",
       "      <td>UO_0000065</td>\n",
       "      <td>None</td>\n",
       "      <td>100.0</td>\n",
       "    </tr>\n",
       "    <tr>\n",
       "      <th>1</th>\n",
       "      <td>active</td>\n",
       "      <td>7018431</td>\n",
       "      <td>[]</td>\n",
       "      <td>CHEMBL1794550</td>\n",
       "      <td>PUBCHEM_BIOASSAY: Primary and Confirmatory Scr...</td>\n",
       "      <td>F</td>\n",
       "      <td>None</td>\n",
       "      <td>None</td>\n",
       "      <td>BAO_0000190</td>\n",
       "      <td>BAO_0000019</td>\n",
       "      <td>...</td>\n",
       "      <td>Dengue virus type 2 (strain Thailand/16681/198...</td>\n",
       "      <td>Dengue virus type 2 NS3 protein</td>\n",
       "      <td>31634</td>\n",
       "      <td>None</td>\n",
       "      <td>None</td>\n",
       "      <td>IC50</td>\n",
       "      <td>uM</td>\n",
       "      <td>UO_0000065</td>\n",
       "      <td>None</td>\n",
       "      <td>12.31</td>\n",
       "    </tr>\n",
       "    <tr>\n",
       "      <th>2</th>\n",
       "      <td>active</td>\n",
       "      <td>7018432</td>\n",
       "      <td>[]</td>\n",
       "      <td>CHEMBL1794550</td>\n",
       "      <td>PUBCHEM_BIOASSAY: Primary and Confirmatory Scr...</td>\n",
       "      <td>F</td>\n",
       "      <td>None</td>\n",
       "      <td>None</td>\n",
       "      <td>BAO_0000190</td>\n",
       "      <td>BAO_0000019</td>\n",
       "      <td>...</td>\n",
       "      <td>Dengue virus type 2 (strain Thailand/16681/198...</td>\n",
       "      <td>Dengue virus type 2 NS3 protein</td>\n",
       "      <td>31634</td>\n",
       "      <td>None</td>\n",
       "      <td>None</td>\n",
       "      <td>IC50</td>\n",
       "      <td>uM</td>\n",
       "      <td>UO_0000065</td>\n",
       "      <td>None</td>\n",
       "      <td>100.0</td>\n",
       "    </tr>\n",
       "  </tbody>\n",
       "</table>\n",
       "<p>3 rows × 45 columns</p>\n",
       "</div>"
      ],
      "text/plain": [
       "  activity_comment  activity_id activity_properties assay_chembl_id  \\\n",
       "0           active      7018430                  []   CHEMBL1794550   \n",
       "1           active      7018431                  []   CHEMBL1794550   \n",
       "2           active      7018432                  []   CHEMBL1794550   \n",
       "\n",
       "                                   assay_description assay_type  \\\n",
       "0  PUBCHEM_BIOASSAY: Primary and Confirmatory Scr...          F   \n",
       "1  PUBCHEM_BIOASSAY: Primary and Confirmatory Scr...          F   \n",
       "2  PUBCHEM_BIOASSAY: Primary and Confirmatory Scr...          F   \n",
       "\n",
       "  assay_variant_accession assay_variant_mutation bao_endpoint   bao_format  \\\n",
       "0                    None                   None  BAO_0000190  BAO_0000019   \n",
       "1                    None                   None  BAO_0000190  BAO_0000019   \n",
       "2                    None                   None  BAO_0000190  BAO_0000019   \n",
       "\n",
       "   ...                                    target_organism  \\\n",
       "0  ...  Dengue virus type 2 (strain Thailand/16681/198...   \n",
       "1  ...  Dengue virus type 2 (strain Thailand/16681/198...   \n",
       "2  ...  Dengue virus type 2 (strain Thailand/16681/198...   \n",
       "\n",
       "                  target_pref_name target_tax_id text_value  toid  type  \\\n",
       "0  Dengue virus type 2 NS3 protein         31634       None  None  IC50   \n",
       "1  Dengue virus type 2 NS3 protein         31634       None  None  IC50   \n",
       "2  Dengue virus type 2 NS3 protein         31634       None  None  IC50   \n",
       "\n",
       "   units    uo_units upper_value  value  \n",
       "0     uM  UO_0000065        None  100.0  \n",
       "1     uM  UO_0000065        None  12.31  \n",
       "2     uM  UO_0000065        None  100.0  \n",
       "\n",
       "[3 rows x 45 columns]"
      ]
     },
     "execution_count": 19,
     "metadata": {},
     "output_type": "execute_result"
    }
   ],
   "source": [
    "df.head(3)"
   ]
  },
  {
   "cell_type": "code",
   "execution_count": 20,
   "metadata": {},
   "outputs": [
    {
     "data": {
      "text/plain": [
       "array(['IC50'], dtype=object)"
      ]
     },
     "execution_count": 20,
     "metadata": {},
     "output_type": "execute_result"
    }
   ],
   "source": [
    "df.type.unique()"
   ]
  },
  {
   "cell_type": "markdown",
   "metadata": {},
   "source": [
    "##### Finally we will save the resulting bioactivity data to CSV file bioactivity_data.csv"
   ]
  },
  {
   "cell_type": "code",
   "execution_count": 21,
   "metadata": {},
   "outputs": [],
   "source": [
    "df.to_csv('bioactivity_data.csv',index=False)"
   ]
  }
 ],
 "metadata": {
  "interpreter": {
   "hash": "3d168fe1301169f0e3bd78a338118642d2daf4d0e5325de7718c93bfbdca1d74"
  },
  "kernelspec": {
   "display_name": "Python 3.8.8 64-bit ('base': conda)",
   "language": "python",
   "name": "python3"
  },
  "language_info": {
   "codemirror_mode": {
    "name": "ipython",
    "version": 3
   },
   "file_extension": ".py",
   "mimetype": "text/x-python",
   "name": "python",
   "nbconvert_exporter": "python",
   "pygments_lexer": "ipython3",
   "version": "3.8.8"
  },
  "orig_nbformat": 4
 },
 "nbformat": 4,
 "nbformat_minor": 2
}
